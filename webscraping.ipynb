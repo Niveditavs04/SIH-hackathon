{
  "nbformat": 4,
  "nbformat_minor": 0,
  "metadata": {
    "colab": {
      "provenance": [],
      "authorship_tag": "ABX9TyMPGiHEsTpNdVebwEYs8X7u",
      "include_colab_link": true
    },
    "kernelspec": {
      "name": "python3",
      "display_name": "Python 3"
    },
    "language_info": {
      "name": "python"
    }
  },
  "cells": [
    {
      "cell_type": "markdown",
      "metadata": {
        "id": "view-in-github",
        "colab_type": "text"
      },
      "source": [
        "<a href=\"https://colab.research.google.com/github/Niveditavs04/SIH-hackathon/blob/main/webscraping.ipynb\" target=\"_parent\"><img src=\"https://colab.research.google.com/assets/colab-badge.svg\" alt=\"Open In Colab\"/></a>"
      ]
    },
    {
      "cell_type": "code",
      "execution_count": null,
      "metadata": {
        "colab": {
          "base_uri": "https://localhost:8080/"
        },
        "id": "A6jBPDHYRf80",
        "outputId": "df6dc37e-96a4-4b82-a22d-7a16fe3a1935"
      },
      "outputs": [
        {
          "output_type": "stream",
          "name": "stdout",
          "text": [
            "Scraping Page: https://flare.io/learn/resources//page/1\n",
            "Scraping Page: https://flare.io/learn/resources//page/2\n",
            "Scraping Page: https://flare.io/learn/resources//page/3\n",
            "Scraping Page: https://flare.io/learn/resources//page/4\n",
            "Scraping Page: https://flare.io/learn/resources//page/5\n"
          ]
        }
      ],
      "source": [
        "import requests\n",
        "from bs4 import BeautifulSoup\n",
        "import time\n",
        "\n",
        "# URL of the page to scrape\n",
        "url = 'https://flare.io/learn/resources/'  # Replace with the actual URL of the forum's page\n",
        "\n",
        "# Headers to make the request look like it's coming from a real browser\n",
        "headers = {\n",
        "    'User-Agent': 'Mozilla/5.0 (Windows NT 10.0; Win64; x64) AppleWebKit/537.36 (KHTML, like Gecko) Chrome/85.0.4183.102 Safari/537.36'\n",
        "}\n",
        "\n",
        "# Function to scrape a page\n",
        "def scrape_breach_forums(url):\n",
        "    try:\n",
        "        # Send a GET request\n",
        "        response = requests.get(url, headers=headers)\n",
        "\n",
        "        # Check if the request was successful\n",
        "        if response.status_code == 200:\n",
        "            # Parse the HTML content using BeautifulSoup\n",
        "            soup = BeautifulSoup(response.text, 'html.parser')\n",
        "\n",
        "            # Find relevant data (customize according to the site's structure)\n",
        "            # For example, scraping post titles\n",
        "            titles = soup.find_all('a', class_='blog')  # Replace with actual class or tag from the forum\n",
        "\n",
        "            # Print or process the extracted titles\n",
        "            for title in titles:\n",
        "                print(title.get_text())\n",
        "                print(f\"Link: {title['href']}\")\n",
        "        else:\n",
        "            print(f\"Failed to retrieve the page. Status code: {response.status_code}\")\n",
        "    except Exception as e:\n",
        "        print(f\"An error occurred: {e}\")\n",
        "\n",
        "# Example: Scraping multiple pages\n",
        "def scrape_multiple_pages(base_url, start_page, end_page):\n",
        "    for page in range(start_page, end_page + 1):\n",
        "        page_url = f\"{base_url}/page/{page}\"  # Modify according to the forum's URL structure\n",
        "        print(f\"Scraping Page: {page_url}\")\n",
        "        scrape_breach_forums(page_url)\n",
        "        time.sleep(2)  # Sleep to avoid being blocked for too many requests\n",
        "\n",
        "# Usage example\n",
        "scrape_multiple_pages(url, 1, 5)  # Scrape the first 5 pages\n"
      ]
    },
    {
      "cell_type": "code",
      "source": [
        "import requests\n",
        "from bs4 import BeautifulSoup\n",
        "\n",
        "# URL of the website\n",
        "url = 'https://www.bleepingcomputer.com/news/'  # Replace with your target URL\n",
        "\n",
        "# Fetch the HTML content\n",
        "response = requests.get(url)\n",
        "html_content = response.text\n",
        "\n",
        "# Parse the HTML content using BeautifulSoup\n",
        "soup = BeautifulSoup(html_content, 'html.parser')\n",
        "\n",
        "# Extract the text of the body tag\n",
        "content = soup.find('body').get_text()\n",
        "print(content)\n"
      ],
      "metadata": {
        "colab": {
          "base_uri": "https://localhost:8080/"
        },
        "id": "NVVNiCpwYk88",
        "outputId": "bd47e22f-5652-4445-ef37-e020bd5ef87a"
      },
      "execution_count": null,
      "outputs": [
        {
          "output_type": "stream",
          "name": "stdout",
          "text": [
            "Enable JavaScript and cookies to continue\n"
          ]
        }
      ]
    },
    {
      "cell_type": "code",
      "source": [
        "import scrapy\n",
        "\n",
        "class CyberSpider(scrapy.Spider):\n",
        "    name = \"cyber\"\n",
        "    start_urls = ['https://www.bleepingcomputer.com/news/']  # Replace with your target URL\n",
        "\n",
        "    def parse(self, response):\n",
        "        for incident in response.css('div.incident'):\n",
        "            yield {\n",
        "                'title': incident.css('h2::text').get(),\n",
        "                'link': incident.css('a::attr(href)').get(),\n",
        "            }\n"
      ],
      "metadata": {
        "id": "-0LSf7OqZ__1"
      },
      "execution_count": null,
      "outputs": []
    },
    {
      "cell_type": "code",
      "source": [
        "!pip install selenium"
      ],
      "metadata": {
        "id": "T8ptsL4QbA1i",
        "outputId": "550abe2b-d5f4-4971-8316-b882a055f180",
        "colab": {
          "base_uri": "https://localhost:8080/"
        }
      },
      "execution_count": 1,
      "outputs": [
        {
          "output_type": "stream",
          "name": "stdout",
          "text": [
            "Collecting selenium\n",
            "  Downloading selenium-4.25.0-py3-none-any.whl.metadata (7.1 kB)\n",
            "Requirement already satisfied: urllib3<3,>=1.26 in /usr/local/lib/python3.10/dist-packages (from urllib3[socks]<3,>=1.26->selenium) (2.0.7)\n",
            "Collecting trio~=0.17 (from selenium)\n",
            "  Downloading trio-0.26.2-py3-none-any.whl.metadata (8.6 kB)\n",
            "Collecting trio-websocket~=0.9 (from selenium)\n",
            "  Downloading trio_websocket-0.11.1-py3-none-any.whl.metadata (4.7 kB)\n",
            "Requirement already satisfied: certifi>=2021.10.8 in /usr/local/lib/python3.10/dist-packages (from selenium) (2024.8.30)\n",
            "Requirement already satisfied: typing_extensions~=4.9 in /usr/local/lib/python3.10/dist-packages (from selenium) (4.12.2)\n",
            "Requirement already satisfied: websocket-client~=1.8 in /usr/local/lib/python3.10/dist-packages (from selenium) (1.8.0)\n",
            "Requirement already satisfied: attrs>=23.2.0 in /usr/local/lib/python3.10/dist-packages (from trio~=0.17->selenium) (24.2.0)\n",
            "Requirement already satisfied: sortedcontainers in /usr/local/lib/python3.10/dist-packages (from trio~=0.17->selenium) (2.4.0)\n",
            "Requirement already satisfied: idna in /usr/local/lib/python3.10/dist-packages (from trio~=0.17->selenium) (3.10)\n",
            "Collecting outcome (from trio~=0.17->selenium)\n",
            "  Downloading outcome-1.3.0.post0-py2.py3-none-any.whl.metadata (2.6 kB)\n",
            "Requirement already satisfied: sniffio>=1.3.0 in /usr/local/lib/python3.10/dist-packages (from trio~=0.17->selenium) (1.3.1)\n",
            "Requirement already satisfied: exceptiongroup in /usr/local/lib/python3.10/dist-packages (from trio~=0.17->selenium) (1.2.2)\n",
            "Collecting wsproto>=0.14 (from trio-websocket~=0.9->selenium)\n",
            "  Downloading wsproto-1.2.0-py3-none-any.whl.metadata (5.6 kB)\n",
            "Requirement already satisfied: pysocks!=1.5.7,<2.0,>=1.5.6 in /usr/local/lib/python3.10/dist-packages (from urllib3[socks]<3,>=1.26->selenium) (1.7.1)\n",
            "Collecting h11<1,>=0.9.0 (from wsproto>=0.14->trio-websocket~=0.9->selenium)\n",
            "  Downloading h11-0.14.0-py3-none-any.whl.metadata (8.2 kB)\n",
            "Downloading selenium-4.25.0-py3-none-any.whl (9.7 MB)\n",
            "\u001b[2K   \u001b[90m━━━━━━━━━━━━━━━━━━━━━━━━━━━━━━━━━━━━━━━━\u001b[0m \u001b[32m9.7/9.7 MB\u001b[0m \u001b[31m26.7 MB/s\u001b[0m eta \u001b[36m0:00:00\u001b[0m\n",
            "\u001b[?25hDownloading trio-0.26.2-py3-none-any.whl (475 kB)\n",
            "\u001b[2K   \u001b[90m━━━━━━━━━━━━━━━━━━━━━━━━━━━━━━━━━━━━━━━━\u001b[0m \u001b[32m476.0/476.0 kB\u001b[0m \u001b[31m9.9 MB/s\u001b[0m eta \u001b[36m0:00:00\u001b[0m\n",
            "\u001b[?25hDownloading trio_websocket-0.11.1-py3-none-any.whl (17 kB)\n",
            "Downloading wsproto-1.2.0-py3-none-any.whl (24 kB)\n",
            "Downloading outcome-1.3.0.post0-py2.py3-none-any.whl (10 kB)\n",
            "Downloading h11-0.14.0-py3-none-any.whl (58 kB)\n",
            "\u001b[2K   \u001b[90m━━━━━━━━━━━━━━━━━━━━━━━━━━━━━━━━━━━━━━━━\u001b[0m \u001b[32m58.3/58.3 kB\u001b[0m \u001b[31m3.7 MB/s\u001b[0m eta \u001b[36m0:00:00\u001b[0m\n",
            "\u001b[?25hInstalling collected packages: outcome, h11, wsproto, trio, trio-websocket, selenium\n",
            "Successfully installed h11-0.14.0 outcome-1.3.0.post0 selenium-4.25.0 trio-0.26.2 trio-websocket-0.11.1 wsproto-1.2.0\n"
          ]
        }
      ]
    },
    {
      "cell_type": "code",
      "source": [
        "# Python program to demonstrate\n",
        "# selenium\n",
        "\n",
        "# import webdriver\n",
        "from selenium import webdriver\n",
        "\n",
        "# create webdriver object\n",
        "driver = webdriver.Firefox()\n",
        "# get google.co.in\n",
        "service = Service(ChromeDriverManager().install())\n",
        "options = webdriver.ChromeOptions()\n",
        "driver = webdriver.Chrome(service=service, options=options)\n",
        "\n",
        "try:\n",
        "    # Open Google\n",
        "    driver.get(\"https://www.google.com\")\n",
        "finally:\n",
        "    # Close the browser\n",
        "    driver.quit()\n"
      ],
      "metadata": {
        "colab": {
          "base_uri": "https://localhost:8080/",
          "height": 334
        },
        "id": "roe2zib9t5WM",
        "outputId": "73fadc94-8795-43af-859c-abf88c3a19d8"
      },
      "execution_count": 3,
      "outputs": [
        {
          "output_type": "error",
          "ename": "WebDriverException",
          "evalue": "Message: Process unexpectedly closed with status 1\n",
          "traceback": [
            "\u001b[0;31m---------------------------------------------------------------------------\u001b[0m",
            "\u001b[0;31mWebDriverException\u001b[0m                        Traceback (most recent call last)",
            "\u001b[0;32m<ipython-input-3-30641de34d92>\u001b[0m in \u001b[0;36m<cell line: 8>\u001b[0;34m()\u001b[0m\n\u001b[1;32m      6\u001b[0m \u001b[0;34m\u001b[0m\u001b[0m\n\u001b[1;32m      7\u001b[0m \u001b[0;31m# create webdriver object\u001b[0m\u001b[0;34m\u001b[0m\u001b[0;34m\u001b[0m\u001b[0m\n\u001b[0;32m----> 8\u001b[0;31m \u001b[0mdriver\u001b[0m \u001b[0;34m=\u001b[0m \u001b[0mwebdriver\u001b[0m\u001b[0;34m.\u001b[0m\u001b[0mFirefox\u001b[0m\u001b[0;34m(\u001b[0m\u001b[0;34m)\u001b[0m\u001b[0;34m\u001b[0m\u001b[0;34m\u001b[0m\u001b[0m\n\u001b[0m\u001b[1;32m      9\u001b[0m \u001b[0;31m# get google.co.in\u001b[0m\u001b[0;34m\u001b[0m\u001b[0;34m\u001b[0m\u001b[0m\n\u001b[1;32m     10\u001b[0m \u001b[0mservice\u001b[0m \u001b[0;34m=\u001b[0m \u001b[0mService\u001b[0m\u001b[0;34m(\u001b[0m\u001b[0mChromeDriverManager\u001b[0m\u001b[0;34m(\u001b[0m\u001b[0;34m)\u001b[0m\u001b[0;34m.\u001b[0m\u001b[0minstall\u001b[0m\u001b[0;34m(\u001b[0m\u001b[0;34m)\u001b[0m\u001b[0;34m)\u001b[0m\u001b[0;34m\u001b[0m\u001b[0;34m\u001b[0m\u001b[0m\n",
            "\u001b[0;32m/usr/local/lib/python3.10/dist-packages/selenium/webdriver/firefox/webdriver.py\u001b[0m in \u001b[0;36m__init__\u001b[0;34m(self, options, service, keep_alive)\u001b[0m\n\u001b[1;32m     69\u001b[0m \u001b[0;34m\u001b[0m\u001b[0m\n\u001b[1;32m     70\u001b[0m         \u001b[0;32mtry\u001b[0m\u001b[0;34m:\u001b[0m\u001b[0;34m\u001b[0m\u001b[0;34m\u001b[0m\u001b[0m\n\u001b[0;32m---> 71\u001b[0;31m             \u001b[0msuper\u001b[0m\u001b[0;34m(\u001b[0m\u001b[0;34m)\u001b[0m\u001b[0;34m.\u001b[0m\u001b[0m__init__\u001b[0m\u001b[0;34m(\u001b[0m\u001b[0mcommand_executor\u001b[0m\u001b[0;34m=\u001b[0m\u001b[0mexecutor\u001b[0m\u001b[0;34m,\u001b[0m \u001b[0moptions\u001b[0m\u001b[0;34m=\u001b[0m\u001b[0moptions\u001b[0m\u001b[0;34m)\u001b[0m\u001b[0;34m\u001b[0m\u001b[0;34m\u001b[0m\u001b[0m\n\u001b[0m\u001b[1;32m     72\u001b[0m         \u001b[0;32mexcept\u001b[0m \u001b[0mException\u001b[0m\u001b[0;34m:\u001b[0m\u001b[0;34m\u001b[0m\u001b[0;34m\u001b[0m\u001b[0m\n\u001b[1;32m     73\u001b[0m             \u001b[0mself\u001b[0m\u001b[0;34m.\u001b[0m\u001b[0mquit\u001b[0m\u001b[0;34m(\u001b[0m\u001b[0;34m)\u001b[0m\u001b[0;34m\u001b[0m\u001b[0;34m\u001b[0m\u001b[0m\n",
            "\u001b[0;32m/usr/local/lib/python3.10/dist-packages/selenium/webdriver/remote/webdriver.py\u001b[0m in \u001b[0;36m__init__\u001b[0;34m(self, command_executor, keep_alive, file_detector, options)\u001b[0m\n\u001b[1;32m    210\u001b[0m         \u001b[0mself\u001b[0m\u001b[0;34m.\u001b[0m\u001b[0m_authenticator_id\u001b[0m \u001b[0;34m=\u001b[0m \u001b[0;32mNone\u001b[0m\u001b[0;34m\u001b[0m\u001b[0;34m\u001b[0m\u001b[0m\n\u001b[1;32m    211\u001b[0m         \u001b[0mself\u001b[0m\u001b[0;34m.\u001b[0m\u001b[0mstart_client\u001b[0m\u001b[0;34m(\u001b[0m\u001b[0;34m)\u001b[0m\u001b[0;34m\u001b[0m\u001b[0;34m\u001b[0m\u001b[0m\n\u001b[0;32m--> 212\u001b[0;31m         \u001b[0mself\u001b[0m\u001b[0;34m.\u001b[0m\u001b[0mstart_session\u001b[0m\u001b[0;34m(\u001b[0m\u001b[0mcapabilities\u001b[0m\u001b[0;34m)\u001b[0m\u001b[0;34m\u001b[0m\u001b[0;34m\u001b[0m\u001b[0m\n\u001b[0m\u001b[1;32m    213\u001b[0m \u001b[0;34m\u001b[0m\u001b[0m\n\u001b[1;32m    214\u001b[0m         \u001b[0mself\u001b[0m\u001b[0;34m.\u001b[0m\u001b[0m_websocket_connection\u001b[0m \u001b[0;34m=\u001b[0m \u001b[0;32mNone\u001b[0m\u001b[0;34m\u001b[0m\u001b[0;34m\u001b[0m\u001b[0m\n",
            "\u001b[0;32m/usr/local/lib/python3.10/dist-packages/selenium/webdriver/remote/webdriver.py\u001b[0m in \u001b[0;36mstart_session\u001b[0;34m(self, capabilities)\u001b[0m\n\u001b[1;32m    297\u001b[0m \u001b[0;34m\u001b[0m\u001b[0m\n\u001b[1;32m    298\u001b[0m         \u001b[0mcaps\u001b[0m \u001b[0;34m=\u001b[0m \u001b[0m_create_caps\u001b[0m\u001b[0;34m(\u001b[0m\u001b[0mcapabilities\u001b[0m\u001b[0;34m)\u001b[0m\u001b[0;34m\u001b[0m\u001b[0;34m\u001b[0m\u001b[0m\n\u001b[0;32m--> 299\u001b[0;31m         \u001b[0mresponse\u001b[0m \u001b[0;34m=\u001b[0m \u001b[0mself\u001b[0m\u001b[0;34m.\u001b[0m\u001b[0mexecute\u001b[0m\u001b[0;34m(\u001b[0m\u001b[0mCommand\u001b[0m\u001b[0;34m.\u001b[0m\u001b[0mNEW_SESSION\u001b[0m\u001b[0;34m,\u001b[0m \u001b[0mcaps\u001b[0m\u001b[0;34m)\u001b[0m\u001b[0;34m[\u001b[0m\u001b[0;34m\"value\"\u001b[0m\u001b[0;34m]\u001b[0m\u001b[0;34m\u001b[0m\u001b[0;34m\u001b[0m\u001b[0m\n\u001b[0m\u001b[1;32m    300\u001b[0m         \u001b[0mself\u001b[0m\u001b[0;34m.\u001b[0m\u001b[0msession_id\u001b[0m \u001b[0;34m=\u001b[0m \u001b[0mresponse\u001b[0m\u001b[0;34m.\u001b[0m\u001b[0mget\u001b[0m\u001b[0;34m(\u001b[0m\u001b[0;34m\"sessionId\"\u001b[0m\u001b[0;34m)\u001b[0m\u001b[0;34m\u001b[0m\u001b[0;34m\u001b[0m\u001b[0m\n\u001b[1;32m    301\u001b[0m         \u001b[0mself\u001b[0m\u001b[0;34m.\u001b[0m\u001b[0mcaps\u001b[0m \u001b[0;34m=\u001b[0m \u001b[0mresponse\u001b[0m\u001b[0;34m.\u001b[0m\u001b[0mget\u001b[0m\u001b[0;34m(\u001b[0m\u001b[0;34m\"capabilities\"\u001b[0m\u001b[0;34m)\u001b[0m\u001b[0;34m\u001b[0m\u001b[0;34m\u001b[0m\u001b[0m\n",
            "\u001b[0;32m/usr/local/lib/python3.10/dist-packages/selenium/webdriver/remote/webdriver.py\u001b[0m in \u001b[0;36mexecute\u001b[0;34m(self, driver_command, params)\u001b[0m\n\u001b[1;32m    352\u001b[0m         \u001b[0mresponse\u001b[0m \u001b[0;34m=\u001b[0m \u001b[0mself\u001b[0m\u001b[0;34m.\u001b[0m\u001b[0mcommand_executor\u001b[0m\u001b[0;34m.\u001b[0m\u001b[0mexecute\u001b[0m\u001b[0;34m(\u001b[0m\u001b[0mdriver_command\u001b[0m\u001b[0;34m,\u001b[0m \u001b[0mparams\u001b[0m\u001b[0;34m)\u001b[0m\u001b[0;34m\u001b[0m\u001b[0;34m\u001b[0m\u001b[0m\n\u001b[1;32m    353\u001b[0m         \u001b[0;32mif\u001b[0m \u001b[0mresponse\u001b[0m\u001b[0;34m:\u001b[0m\u001b[0;34m\u001b[0m\u001b[0;34m\u001b[0m\u001b[0m\n\u001b[0;32m--> 354\u001b[0;31m             \u001b[0mself\u001b[0m\u001b[0;34m.\u001b[0m\u001b[0merror_handler\u001b[0m\u001b[0;34m.\u001b[0m\u001b[0mcheck_response\u001b[0m\u001b[0;34m(\u001b[0m\u001b[0mresponse\u001b[0m\u001b[0;34m)\u001b[0m\u001b[0;34m\u001b[0m\u001b[0;34m\u001b[0m\u001b[0m\n\u001b[0m\u001b[1;32m    355\u001b[0m             \u001b[0mresponse\u001b[0m\u001b[0;34m[\u001b[0m\u001b[0;34m\"value\"\u001b[0m\u001b[0;34m]\u001b[0m \u001b[0;34m=\u001b[0m \u001b[0mself\u001b[0m\u001b[0;34m.\u001b[0m\u001b[0m_unwrap_value\u001b[0m\u001b[0;34m(\u001b[0m\u001b[0mresponse\u001b[0m\u001b[0;34m.\u001b[0m\u001b[0mget\u001b[0m\u001b[0;34m(\u001b[0m\u001b[0;34m\"value\"\u001b[0m\u001b[0;34m,\u001b[0m \u001b[0;32mNone\u001b[0m\u001b[0;34m)\u001b[0m\u001b[0;34m)\u001b[0m\u001b[0;34m\u001b[0m\u001b[0;34m\u001b[0m\u001b[0m\n\u001b[1;32m    356\u001b[0m             \u001b[0;32mreturn\u001b[0m \u001b[0mresponse\u001b[0m\u001b[0;34m\u001b[0m\u001b[0;34m\u001b[0m\u001b[0m\n",
            "\u001b[0;32m/usr/local/lib/python3.10/dist-packages/selenium/webdriver/remote/errorhandler.py\u001b[0m in \u001b[0;36mcheck_response\u001b[0;34m(self, response)\u001b[0m\n\u001b[1;32m    227\u001b[0m                 \u001b[0malert_text\u001b[0m \u001b[0;34m=\u001b[0m \u001b[0mvalue\u001b[0m\u001b[0;34m[\u001b[0m\u001b[0;34m\"alert\"\u001b[0m\u001b[0;34m]\u001b[0m\u001b[0;34m.\u001b[0m\u001b[0mget\u001b[0m\u001b[0;34m(\u001b[0m\u001b[0;34m\"text\"\u001b[0m\u001b[0;34m)\u001b[0m\u001b[0;34m\u001b[0m\u001b[0;34m\u001b[0m\u001b[0m\n\u001b[1;32m    228\u001b[0m             \u001b[0;32mraise\u001b[0m \u001b[0mexception_class\u001b[0m\u001b[0;34m(\u001b[0m\u001b[0mmessage\u001b[0m\u001b[0;34m,\u001b[0m \u001b[0mscreen\u001b[0m\u001b[0;34m,\u001b[0m \u001b[0mstacktrace\u001b[0m\u001b[0;34m,\u001b[0m \u001b[0malert_text\u001b[0m\u001b[0;34m)\u001b[0m  \u001b[0;31m# type: ignore[call-arg]  # mypy is not smart enough here\u001b[0m\u001b[0;34m\u001b[0m\u001b[0;34m\u001b[0m\u001b[0m\n\u001b[0;32m--> 229\u001b[0;31m         \u001b[0;32mraise\u001b[0m \u001b[0mexception_class\u001b[0m\u001b[0;34m(\u001b[0m\u001b[0mmessage\u001b[0m\u001b[0;34m,\u001b[0m \u001b[0mscreen\u001b[0m\u001b[0;34m,\u001b[0m \u001b[0mstacktrace\u001b[0m\u001b[0;34m)\u001b[0m\u001b[0;34m\u001b[0m\u001b[0;34m\u001b[0m\u001b[0m\n\u001b[0m",
            "\u001b[0;31mWebDriverException\u001b[0m: Message: Process unexpectedly closed with status 1\n"
          ]
        }
      ]
    },
    {
      "cell_type": "code",
      "source": [
        "from selenium import webdriver\n",
        "from selenium.webdriver.common.by import By\n",
        "import time\n",
        "\n",
        "# Path to your ChromeDriver\n",
        "driver_path = '/path/to/chromedriver'\n",
        "\n",
        "# Initialize the Chrome driver\n",
        "driver = webdriver.Chrome(executable_path=driver_path)\n",
        "\n",
        "# Open the website\n",
        "url = 'https://example.com'  # Replace with your target URL\n",
        "driver.get(url)\n",
        "\n",
        "# Wait for the page to fully load\n",
        "time.sleep(5)\n",
        "\n",
        "# Scrape content\n",
        "content = driver.find_element(By.TAG_NAME, 'body').text  # Extracting the text of the body tag\n",
        "print(content)\n",
        "\n",
        "# Close the browser\n",
        "driver.quit()\n"
      ],
      "metadata": {
        "colab": {
          "base_uri": "https://localhost:8080/",
          "height": 219
        },
        "id": "_-cqexlpV82I",
        "outputId": "40fcf489-eeec-4a75-d555-548c4ddf7ebb"
      },
      "execution_count": 2,
      "outputs": [
        {
          "output_type": "error",
          "ename": "TypeError",
          "evalue": "WebDriver.__init__() got an unexpected keyword argument 'executable_path'",
          "traceback": [
            "\u001b[0;31m---------------------------------------------------------------------------\u001b[0m",
            "\u001b[0;31mTypeError\u001b[0m                                 Traceback (most recent call last)",
            "\u001b[0;32m<ipython-input-2-f7e09432d5db>\u001b[0m in \u001b[0;36m<cell line: 9>\u001b[0;34m()\u001b[0m\n\u001b[1;32m      7\u001b[0m \u001b[0;34m\u001b[0m\u001b[0m\n\u001b[1;32m      8\u001b[0m \u001b[0;31m# Initialize the Chrome driver\u001b[0m\u001b[0;34m\u001b[0m\u001b[0;34m\u001b[0m\u001b[0m\n\u001b[0;32m----> 9\u001b[0;31m \u001b[0mdriver\u001b[0m \u001b[0;34m=\u001b[0m \u001b[0mwebdriver\u001b[0m\u001b[0;34m.\u001b[0m\u001b[0mChrome\u001b[0m\u001b[0;34m(\u001b[0m\u001b[0mexecutable_path\u001b[0m\u001b[0;34m=\u001b[0m\u001b[0mdriver_path\u001b[0m\u001b[0;34m)\u001b[0m\u001b[0;34m\u001b[0m\u001b[0;34m\u001b[0m\u001b[0m\n\u001b[0m\u001b[1;32m     10\u001b[0m \u001b[0;34m\u001b[0m\u001b[0m\n\u001b[1;32m     11\u001b[0m \u001b[0;31m# Open the website\u001b[0m\u001b[0;34m\u001b[0m\u001b[0;34m\u001b[0m\u001b[0m\n",
            "\u001b[0;31mTypeError\u001b[0m: WebDriver.__init__() got an unexpected keyword argument 'executable_path'"
          ]
        }
      ]
    },
    {
      "cell_type": "code",
      "source": [
        "import requests\n",
        "\n",
        "# Example URL of the API request\n",
        "url = 'https://example.com/api/data'\n",
        "\n",
        "# Headers to mimic a browser request\n",
        "headers = {\n",
        "    'User-Agent': 'Mozilla/5.0 (Windows NT 10.0; Win64; x64) AppleWebKit/537.36 (KHTML, like Gecko) Chrome/91.0.4472.124 Safari/537.36'\n",
        "}\n",
        "\n",
        "# Send the request\n",
        "response = requests.get(url, headers=headers)\n",
        "\n",
        "# Check if the request was successful\n",
        "if response.status_code == 200:\n",
        "    data = response.json()  # Assuming the API returns JSON\n",
        "    print(data)\n",
        "else:\n",
        "    print(f\"Failed to retrieve data. Status code: {response.status_code}\")\n"
      ],
      "metadata": {
        "id": "RtMoIVdMUw8_"
      },
      "execution_count": null,
      "outputs": []
    },
    {
      "cell_type": "code",
      "source": [
        "!pip install googlesearch-python"
      ],
      "metadata": {
        "id": "Rwv9N3Vf5Mlc"
      },
      "execution_count": null,
      "outputs": []
    },
    {
      "cell_type": "code",
      "source": [
        "\n",
        "\n",
        "from googlesearch import search\n",
        "\n",
        "# Define a list of search queries\n",
        "search_queries = [\n",
        "    \"India cyber threats\",\n",
        "    \"data breach site\",\n",
        "    \"cybersecurity news\",\n",
        "    \"hacker forum data leaks\",\n",
        "]\n",
        "\n",
        "# Perform a Google search and store the URLs\n",
        "discovered_urls = []\n",
        "\n",
        "for query in search_queries:\n",
        "    for result in search(query, num_results=20):  # Customize number of results\n",
        "        print(result)\n",
        "        discovered_urls.append(result)\n"
      ],
      "metadata": {
        "colab": {
          "base_uri": "https://localhost:8080/"
        },
        "id": "YCL7bhve5C7N",
        "outputId": "daf1582a-b52b-403f-ed1e-9dbfab328c75"
      },
      "execution_count": 5,
      "outputs": [
        {
          "output_type": "stream",
          "name": "stdout",
          "text": [
            "https://www.thehindu.com/sci-tech/technology/internet/india-businesses-face-over-3000-cyberattacks-per-week-second-only-to-taiwan-firms/article68417640.ece\n",
            "https://www.niti.gov.in/sites/default/files/2019-07/CyberSecurityConclaveAtVigyanBhavanDelhi_1.pdf\n",
            "https://www.upguard.com/blog/how-indian-organizations-can-mitigate-cyber-threats\n",
            "https://www.gatewayhouse.in/indias-cybersecurity-and-its-impact-on-the-economy/\n",
            "https://www.securityhq.com/blog/cyber-security-in-india-concerns-actions/\n",
            "https://www.thehindu.com/sci-tech/technology/20-indian-users-fell-victim-to-cyber-threats-in-the-first-quarter-of-2024-finds-study/article68196110.ece\n",
            "https://www.pwc.in/ghost-templates/beyond-the-cloud-navigating-fintech-cyber-threats-and-fortifying-defences.html\n",
            "https://www.drishtiias.com/daily-updates/daily-news-editorials/strengthening-india-s-cyber-defence\n",
            "https://thediplomat.com/2024/01/securing-indias-digital-future-cybersecurity-urgency-and-opportunities/\n",
            "https://www.resecurity.com/blog/article/cybercriminals-are-targeting-elections-in-india-with-influence-campaigns\n",
            "https://haveibeenpwned.com/\n",
            "https://databreaches.net/\n",
            "https://www.ftc.gov/data-breach-resources\n",
            "https://ocrportal.hhs.gov/ocr/breach/breach_report.jsf\n",
            "https://cybersecurityventures.com/intrusion-daily-cyber-threat-alert/\n",
            "https://www.f-secure.com/us-en/identity-theft-checker\n",
            "https://oag.ca.gov/privacy/databreach/list\n",
            "https://informationisbeautiful.net/visualizations/worlds-biggest-data-breaches-hacks/\n",
            "https://haveibeenpwned.com/FAQs\n",
            "https://www.avast.com/en-us/hackcheck\n",
            "https://thehackernews.com/\n",
            "https://www.securityweek.com/\n",
            "https://www.darkreading.com/\n",
            "https://cybersecuritynews.com/\n",
            "https://www.wired.com/category/security/\n",
            "https://cyware.com/cyber-security-news-articles\n",
            "https://www.cisa.gov/news-events/cybersecurity-advisories\n",
            "https://cyberscoop.com/\n",
            "https://www.reuters.com/technology/cybersecurity/\n",
            "https://www.reddit.com/r/cybersecurity/\n",
            "https://www.securitymagazine.com/articles/100833-nearly-10-billion-stolen-passwords-were-leaked-on-a-hacker-forum\n",
            "https://www.tikaj.com/blog/top-4-data-leak-forums-easy-access-2024/\n",
            "https://www.bleepingcomputer.com/news/security/breachforums-v1-hacking-forum-data-leak-exposes-members-info/\n",
            "https://www.reddit.com/r/technews/comments/1er8uvr/hackers_leak_27_billion_data_records_with_social/\n",
            "https://www.darkreading.com/cyberattacks-data-breaches/leak-site-breachforums-springs-back-to-life-weeks-after-fbi-takedown\n",
            "https://www.reddit.com/r/cybersecurity/comments/1ewpr7i/toyota_confirms_breach_after_stolen_data_leaks_on/\n",
            "https://www.bleepingcomputer.com/news/security/hackers-leak-27-billion-data-records-with-social-security-numbers/\n",
            "https://en.wikipedia.org/wiki/BreachForums\n",
            "https://www.tomshardware.com/tech-industry/cyber-security/massive-leak-of-us-personal-information-shows-up-on-hacking-forum-including-almost-27-billion-records\n",
            "https://www.bitdefender.com/blog/hotforsecurity/breachforums-data-leak-exposes-extensive-member-information/\n"
          ]
        }
      ]
    },
    {
      "cell_type": "code",
      "source": [
        "import requests\n",
        "from bs4 import BeautifulSoup\n",
        "import spacy\n",
        "\n",
        "# Load NLP model\n",
        "nlp = spacy.load('en_core_web_sm')\n",
        "\n",
        "# Sample data (update these counts based on your results)\n",
        "\n",
        "\n",
        "\n",
        "# Function to scrape and classify page content\n",
        "def scrape_and_classify(url):\n",
        "    not_relevant_count = 0 # Number of non-relevant URLs found\n",
        "    error_count = 0        # Number of errors encountered\n",
        "    try:\n",
        "        # Get the page content\n",
        "        response = requests.get(url)\n",
        "        soup = BeautifulSoup(response.text, 'html.parser')\n",
        "        page_text = soup.get_text()\n",
        "\n",
        "        # Analyze the page content using NLP\n",
        "        doc = nlp(page_text)\n",
        "        keywords = ['data breach', 'ransomware', 'DDoS', 'cyber incident']\n",
        "\n",
        "        # Check if any keywords related to cyber incidents are found\n",
        "        found_keywords = [kw for kw in keywords if kw in doc.text.lower()]\n",
        "        if found_keywords:\n",
        "            print(f\"Relevant content found in: {url}\")\n",
        "            return url\n",
        "        else:\n",
        "            print(f\"Not relevant: {url}\")\n",
        "            not_relevant_count += 1\n",
        "    except Exception as e:\n",
        "        print(f\"Error scraping {url}: {e}\")\n",
        "        error_count += 1\n",
        "\n",
        "# Scrape and classify all discovered URLs\n",
        "relevant_urls = []\n",
        "for url in discovered_urls:\n",
        "    result = scrape_and_classify(url)\n",
        "    if result:\n",
        "        relevant_urls.append(result)\n",
        "relevant_count = len(relevant_urls)   # Number of relevant URLs found\n",
        "print(\"Relevant URLs:\", relevant_urls)\n"
      ],
      "metadata": {
        "colab": {
          "base_uri": "https://localhost:8080/"
        },
        "id": "SYt_-8iy6UHE",
        "outputId": "df10b20a-7481-4784-8099-0faf1eb54c4d"
      },
      "execution_count": 8,
      "outputs": [
        {
          "output_type": "stream",
          "name": "stdout",
          "text": [
            "Relevant content found in: https://www.thehindu.com/sci-tech/technology/internet/india-businesses-face-over-3000-cyberattacks-per-week-second-only-to-taiwan-firms/article68417640.ece\n",
            "Error scraping https://www.niti.gov.in/sites/default/files/2019-07/CyberSecurityConclaveAtVigyanBhavanDelhi_1.pdf: [E088] Text of length 2714772 exceeds maximum of 1000000. The parser and NER models require roughly 1GB of temporary memory per 100,000 characters in the input. This means long texts may cause memory allocation errors. If you're not using the parser or NER, it's probably safe to increase the `nlp.max_length` limit. The limit is in number of characters, so you can check whether your inputs are too long by checking `len(text)`.\n",
            "Relevant content found in: https://www.upguard.com/blog/how-indian-organizations-can-mitigate-cyber-threats\n",
            "Not relevant: https://www.gatewayhouse.in/indias-cybersecurity-and-its-impact-on-the-economy/\n",
            "Relevant content found in: https://www.securityhq.com/blog/cyber-security-in-india-concerns-actions/\n",
            "Not relevant: https://www.thehindu.com/sci-tech/technology/20-indian-users-fell-victim-to-cyber-threats-in-the-first-quarter-of-2024-finds-study/article68196110.ece\n",
            "Not relevant: https://www.pwc.in/ghost-templates/beyond-the-cloud-navigating-fintech-cyber-threats-and-fortifying-defences.html\n",
            "Relevant content found in: https://www.drishtiias.com/daily-updates/daily-news-editorials/strengthening-india-s-cyber-defence\n",
            "Relevant content found in: https://thediplomat.com/2024/01/securing-indias-digital-future-cybersecurity-urgency-and-opportunities/\n",
            "Relevant content found in: https://www.resecurity.com/blog/article/cybercriminals-are-targeting-elections-in-india-with-influence-campaigns\n",
            "Relevant content found in: https://haveibeenpwned.com/\n",
            "Relevant content found in: https://databreaches.net/\n",
            "Relevant content found in: https://www.ftc.gov/data-breach-resources\n",
            "Not relevant: https://ocrportal.hhs.gov/ocr/breach/breach_report.jsf\n",
            "Relevant content found in: https://cybersecurityventures.com/intrusion-daily-cyber-threat-alert/\n",
            "Relevant content found in: https://www.f-secure.com/us-en/identity-theft-checker\n",
            "Relevant content found in: https://oag.ca.gov/privacy/databreach/list\n",
            "Error scraping https://informationisbeautiful.net/visualizations/worlds-biggest-data-breaches-hacks/: HTTPSConnectionPool(host='informationisbeautiful.net', port=443): Max retries exceeded with url: /visualizations/worlds-biggest-data-breaches-hacks/ (Caused by SSLError(SSLCertVerificationError(1, '[SSL: CERTIFICATE_VERIFY_FAILED] certificate verify failed: unable to get local issuer certificate (_ssl.c:1007)')))\n",
            "Relevant content found in: https://haveibeenpwned.com/FAQs\n",
            "Relevant content found in: https://www.avast.com/en-us/hackcheck\n",
            "Relevant content found in: https://thehackernews.com/\n",
            "Not relevant: https://www.securityweek.com/\n",
            "Relevant content found in: https://www.darkreading.com/\n",
            "Relevant content found in: https://cybersecuritynews.com/\n",
            "Not relevant: https://www.wired.com/category/security/\n",
            "Relevant content found in: https://cyware.com/cyber-security-news-articles\n",
            "Relevant content found in: https://www.cisa.gov/news-events/cybersecurity-advisories\n",
            "Relevant content found in: https://cyberscoop.com/\n",
            "Not relevant: https://www.reuters.com/technology/cybersecurity/\n",
            "Not relevant: https://www.reddit.com/r/cybersecurity/\n",
            "Relevant content found in: https://www.securitymagazine.com/articles/100833-nearly-10-billion-stolen-passwords-were-leaked-on-a-hacker-forum\n",
            "Relevant content found in: https://www.tikaj.com/blog/top-4-data-leak-forums-easy-access-2024/\n",
            "Not relevant: https://www.bleepingcomputer.com/news/security/breachforums-v1-hacking-forum-data-leak-exposes-members-info/\n",
            "Not relevant: https://www.reddit.com/r/technews/comments/1er8uvr/hackers_leak_27_billion_data_records_with_social/\n",
            "Relevant content found in: https://www.darkreading.com/cyberattacks-data-breaches/leak-site-breachforums-springs-back-to-life-weeks-after-fbi-takedown\n",
            "Not relevant: https://www.reddit.com/r/cybersecurity/comments/1ewpr7i/toyota_confirms_breach_after_stolen_data_leaks_on/\n",
            "Not relevant: https://www.bleepingcomputer.com/news/security/hackers-leak-27-billion-data-records-with-social-security-numbers/\n",
            "Relevant content found in: https://en.wikipedia.org/wiki/BreachForums\n",
            "Relevant content found in: https://www.tomshardware.com/tech-industry/cyber-security/massive-leak-of-us-personal-information-shows-up-on-hacking-forum-including-almost-27-billion-records\n",
            "Relevant content found in: https://www.bitdefender.com/blog/hotforsecurity/breachforums-data-leak-exposes-extensive-member-information/\n",
            "Relevant URLs: ['https://www.thehindu.com/sci-tech/technology/internet/india-businesses-face-over-3000-cyberattacks-per-week-second-only-to-taiwan-firms/article68417640.ece', 'https://www.upguard.com/blog/how-indian-organizations-can-mitigate-cyber-threats', 'https://www.securityhq.com/blog/cyber-security-in-india-concerns-actions/', 'https://www.drishtiias.com/daily-updates/daily-news-editorials/strengthening-india-s-cyber-defence', 'https://thediplomat.com/2024/01/securing-indias-digital-future-cybersecurity-urgency-and-opportunities/', 'https://www.resecurity.com/blog/article/cybercriminals-are-targeting-elections-in-india-with-influence-campaigns', 'https://haveibeenpwned.com/', 'https://databreaches.net/', 'https://www.ftc.gov/data-breach-resources', 'https://cybersecurityventures.com/intrusion-daily-cyber-threat-alert/', 'https://www.f-secure.com/us-en/identity-theft-checker', 'https://oag.ca.gov/privacy/databreach/list', 'https://haveibeenpwned.com/FAQs', 'https://www.avast.com/en-us/hackcheck', 'https://thehackernews.com/', 'https://www.darkreading.com/', 'https://cybersecuritynews.com/', 'https://cyware.com/cyber-security-news-articles', 'https://www.cisa.gov/news-events/cybersecurity-advisories', 'https://cyberscoop.com/', 'https://www.securitymagazine.com/articles/100833-nearly-10-billion-stolen-passwords-were-leaked-on-a-hacker-forum', 'https://www.tikaj.com/blog/top-4-data-leak-forums-easy-access-2024/', 'https://www.darkreading.com/cyberattacks-data-breaches/leak-site-breachforums-springs-back-to-life-weeks-after-fbi-takedown', 'https://en.wikipedia.org/wiki/BreachForums', 'https://www.tomshardware.com/tech-industry/cyber-security/massive-leak-of-us-personal-information-shows-up-on-hacking-forum-including-almost-27-billion-records', 'https://www.bitdefender.com/blog/hotforsecurity/breachforums-data-leak-exposes-extensive-member-information/']\n"
          ]
        }
      ]
    },
    {
      "cell_type": "code",
      "source": [
        "# Sample data\n",
        "import matplotlib.pyplot as plt\n",
        "labels = ['Relevant sites', 'Not Relevant sites', 'Errors']\n",
        "not_relevant_count= 39 - relevant_count\n",
        "counts = [relevant_count, not_relevant_count, 2]\n",
        "\n",
        "# Create a bar chart\n",
        "plt.figure(figsize=(8, 6))\n",
        "plt.bar(labels, counts, color=['#66c2a5', '#fc8d62', '#8da0cb'])\n",
        "plt.title('Web Scraping Results')\n",
        "plt.xlabel('Status')\n",
        "plt.ylabel('Count')\n",
        "plt.xticks(rotation=45)\n",
        "plt.grid(axis='y', linestyle='--', alpha=0.7)\n",
        "plt.tight_layout()\n",
        "plt.show()"
      ],
      "metadata": {
        "colab": {
          "base_uri": "https://localhost:8080/",
          "height": 607
        },
        "id": "nKumr4jX8qrn",
        "outputId": "a026c344-0d83-46e5-a0a5-e47ba6137392"
      },
      "execution_count": 10,
      "outputs": [
        {
          "output_type": "display_data",
          "data": {
            "text/plain": [
              "<Figure size 800x600 with 1 Axes>"
            ],
            "image/png": "[encoded data removed]"
          },
          "metadata": {}
        }
      ]
    },
    {
      "cell_type": "code",
      "source": [
        "# github repo\n",
        "\n",
        "import requests\n",
        "\n",
        "# Define GitHub API URL\n",
        "url = \"https://api.github.com/search/repositories\"\n",
        "\n",
        "# List of vulnerabilities\n",
        "vulnerabilities = [\n",
        "    \"Security Misconfiguration\",\n",
        "    \"Clickjacking\",\n",
        "    \"Version Disclosure\",\n",
        "    \"Spoofing\",\n",
        "    \"Sensitive Data Exposure\",\n",
        "    \"Injection\",\n",
        "    \"Information Disclosure\",\n",
        "    \"Cross-Site Scripting\",\n",
        "    \"Broken Authentication\",\n",
        "    \"Weak Encryption\"\n",
        "]\n",
        "\n",
        "# Search for each vulnerability\n",
        "for vulnerability in vulnerabilities:\n",
        "    params = {\n",
        "        'q': f'{vulnerability}',\n",
        "        'sort': 'stars',\n",
        "        'order': 'desc'\n",
        "    }\n",
        "    response = requests.get(url, params=params)\n",
        "    data = response.json()\n",
        "\n",
        "    print(f\"Top repositories for '{vulnerability}':\")\n",
        "    for repo in data['items'][:5]:  # Display top 5 results\n",
        "        print(f\"Name: {repo['name']}, Stars: {repo['stargazers_count']}, URL: {repo['html_url']}\")\n",
        "    print()\n",
        "\n"
      ],
      "metadata": {
        "colab": {
          "base_uri": "https://localhost:8080/"
        },
        "id": "4PY0LKJdCLEz",
        "outputId": "a7656231-3acb-41c3-ea98-6d2a50d151e2"
      },
      "execution_count": 11,
      "outputs": [
        {
          "output_type": "stream",
          "name": "stdout",
          "text": [
            "Top repositories for 'Security Misconfiguration':\n",
            "Name: trivy, Stars: 22932, URL: https://github.com/aquasecurity/trivy\n",
            "Name: kubescape, Stars: 10109, URL: https://github.com/kubescape/kubescape\n",
            "Name: tfsec, Stars: 6662, URL: https://github.com/aquasecurity/tfsec\n",
            "Name: datree, Stars: 6385, URL: https://github.com/datreeio/datree\n",
            "Name: kics, Stars: 2026, URL: https://github.com/Checkmarx/kics\n",
            "\n",
            "Top repositories for 'Clickjacking':\n",
            "Name: hacker101, Stars: 13746, URL: https://github.com/Hacker0x01/hacker101\n",
            "Name: Ultimate.Hosts.Blacklist, Stars: 1283, URL: https://github.com/Ultimate-Hosts-Blacklist/Ultimate.Hosts.Blacklist\n",
            "Name: The-Big-List-of-Hacked-Malware-Web-Sites, Stars: 273, URL: https://github.com/mitchellkrogza/The-Big-List-of-Hacked-Malware-Web-Sites\n",
            "Name: web-security-fundamentals, Stars: 255, URL: https://github.com/mike-works/web-security-fundamentals\n",
            "Name: quickjack, Stars: 228, URL: https://github.com/samyk/quickjack\n",
            "\n",
            "Top repositories for 'Version Disclosure':\n",
            "Name: IIS-ShortName-Scanner, Stars: 1415, URL: https://github.com/irsdl/IIS-ShortName-Scanner\n",
            "Name: CVE-2024-40725-CVE-2024-40898, Stars: 62, URL: https://github.com/TAM-K592/CVE-2024-40725-CVE-2024-40898\n",
            "Name: synthpop, Stars: 39, URL: https://github.com/bnowok/synthpop\n",
            "Name: -1, Stars: 28, URL: https://github.com/Rastaman4e/-1\n",
            "Name: agreement, Stars: 12, URL: https://github.com/yqmark/agreement\n",
            "\n",
            "Top repositories for 'Spoofing':\n",
            "Name: bettercap, Stars: 16282, URL: https://github.com/bettercap/bettercap\n",
            "Name: awesome-Face_Recognition, Stars: 4476, URL: https://github.com/ChanChiChoi/awesome-Face_Recognition\n",
            "Name: magspoof, Stars: 3914, URL: https://github.com/samyk/magspoof\n",
            "Name: pwnat, Stars: 3299, URL: https://github.com/samyk/pwnat\n",
            "Name: bettercap, Stars: 2501, URL: https://github.com/evilsocket/bettercap\n",
            "\n",
            "Top repositories for 'Sensitive Data Exposure':\n",
            "Name: Nginx-Lua-Anti-DDoS, Stars: 1123, URL: https://github.com/C0nw0nk/Nginx-Lua-Anti-DDoS\n",
            "Name: akto, Stars: 989, URL: https://github.com/akto-api-security/akto\n",
            "Name: Detection-of-Sensitive-Data-Exposure-in-Images, Stars: 58, URL: https://github.com/DhilipSanjay/Detection-of-Sensitive-Data-Exposure-in-Images\n",
            "Name: DDWPasteRecon, Stars: 37, URL: https://github.com/Viralmaniar/DDWPasteRecon\n",
            "Name: harpoon, Stars: 26, URL: https://github.com/htrgouvea/harpoon\n",
            "\n",
            "Top repositories for 'Injection':\n",
            "Name: sqlmap, Stars: 31993, URL: https://github.com/sqlmapproject/sqlmap\n",
            "Name: react-in-patterns, Stars: 13340, URL: https://github.com/krasimir/react-in-patterns\n",
            "Name: wire, Stars: 12903, URL: https://github.com/google/wire\n",
            "Name: guice, Stars: 12465, URL: https://github.com/google/guice\n",
            "Name: koin, Stars: 8961, URL: https://github.com/InsertKoinIO/koin\n",
            "\n",
            "Top repositories for 'Information Disclosure':\n",
            "Name: webdork, Stars: 149, URL: https://github.com/HACKE-RC/webdork\n",
            "Name: CVE-2024-21413, Stars: 148, URL: https://github.com/duy-31/CVE-2024-21413\n",
            "Name: extrude, Stars: 84, URL: https://github.com/liamg/extrude\n",
            "Name: mdns_recon, Stars: 83, URL: https://github.com/chadillac/mdns_recon\n",
            "Name: exploit-CVE-2023-23752, Stars: 78, URL: https://github.com/Acceis/exploit-CVE-2023-23752\n",
            "\n",
            "Top repositories for 'Cross-Site Scripting':\n",
            "Name: xss-payload-list, Stars: 6151, URL: https://github.com/payloadbox/xss-payload-list\n",
            "Name: ezXSS, Stars: 1871, URL: https://github.com/ssl/ezXSS\n",
            "Name: xsser, Stars: 1160, URL: https://github.com/epsylon/xsser\n",
            "Name: Nginx-Lua-Anti-DDoS, Stars: 1123, URL: https://github.com/C0nw0nk/Nginx-Lua-Anti-DDoS\n",
            "Name: anti-xss, Stars: 677, URL: https://github.com/voku/anti-xss\n",
            "\n",
            "Top repositories for 'Broken Authentication':\n",
            "Name: Nginx-Lua-Anti-DDoS, Stars: 1123, URL: https://github.com/C0nw0nk/Nginx-Lua-Anti-DDoS\n",
            "Name: .config, Stars: 204, URL: https://github.com/zszszszsz/.config\n",
            "Name: helloy-word, Stars: 47, URL: https://github.com/klonnet23/helloy-word\n",
            "Name: advrc, Stars: 30, URL: https://github.com/arongeo/advrc\n",
            "Name: KeyPatcher, Stars: 29, URL: https://github.com/ambiennt/KeyPatcher\n",
            "\n",
            "Top repositories for 'Weak Encryption':\n",
            "Name: AESCrypt-Android, Stars: 640, URL: https://github.com/scottyab/AESCrypt-Android\n",
            "Name: .config, Stars: 204, URL: https://github.com/zszszszsz/.config\n",
            "Name: CVE-2023-43261, Stars: 54, URL: https://github.com/win3zz/CVE-2023-43261\n",
            "Name: instagram-weak-encryption, Stars: 43, URL: https://github.com/Datalux/instagram-weak-encryption\n",
            "Name: keybrute, Stars: 27, URL: https://github.com/unicornsasfuel/keybrute\n",
            "\n"
          ]
        }
      ]
    },
    {
      "cell_type": "code",
      "source": [
        "import requests\n",
        "from bs4 import BeautifulSoup\n",
        "\n",
        "# URL to scrape (change the query to your specific search term)\n",
        "search_query = \"hacking forums\"  # Change this to your desired search term\n",
        "#url = f\"https://telegramchannels.me/search?type=all&search={search_query}\"\n",
        "url= \"https://telegramchannels.me/search?type=all&search=indian+cyber+incidents+news\"\n",
        "# Make a request to the search page\n",
        "response = requests.get(url)\n",
        "soup = BeautifulSoup(response.text, 'html.parser')\n",
        "\n",
        "# Find and extract relevant channel information\n",
        "for channel in soup.find_all('div', class_='card-content pt-2'):  # Target the parent div\n",
        "    title = channel.find('div', class_='card-label is-size-7 has-text-grey z-index-2').find('a', class_=\"has-text-grey\")['title']  # Get the title from the <a> tag\n",
        "    link = channel.find('div', class_='card-label is-size-7 has-text-grey z-index-2').find('a', class_=\"has-text-grey\")['href']  # Get the link from the <a> tag\n",
        "    description = channel.find('div', class_='content has-text-grey two-line-text card-description').find('p').text  # Get the description from the <p> tag\n",
        "    print(f\"Title: {title}, Link: {link}, Description: {description}\")\n",
        "\n"
      ],
      "metadata": {
        "id": "ueT6GB-YLzAw"
      },
      "execution_count": 14,
      "outputs": []
    },
    {
      "cell_type": "code",
      "source": [
        "import requests\n",
        "from bs4 import BeautifulSoup\n",
        "\n",
        "url = \"https://telegramchannels.me/search?type=all&search=indian+cyber+incidents+news\"\n",
        "\n",
        "response = requests.get(url)\n",
        "soup = BeautifulSoup(response.text, 'html.parser')\n",
        "lis =[]\n",
        "for channel in soup.find_all('div', class_='column is-one-third-widescreen is-one-third-desktop is-half-tablet is-full-mobile'):  # Parent div for each channel\n",
        "    title_tag = channel.find('div', class_='card media-card  is-overflow-hidden').find('div', class_='card-content pt-2').find('div', class_='card-label is-size-7 has-text-grey z-index-2').find('a', class_=\"has-text-grey\")  # Tag with class for title\n",
        "    description_tag = channel.find('div', class_='card media-card  is-overflow-hidden').find('div', class_='card-content pt-2').find('div', class_='content has-text-grey two-line-text card-description').find('p')  # Description in a <p> tag\n",
        "\n",
        "    if title_tag:\n",
        "        title = title_tag['title']  # Title\n",
        "        link = title_tag['href']  # Link\n",
        "    else:\n",
        "        title = \"No title available\"\n",
        "        link = \"No link available\"\n",
        "\n",
        "    description = description_tag.text if description_tag else \"No description available\"\n",
        "    lis.append(list(title,link,description))\n",
        "    print(f\"Title: {title}, Link: {link}, Description: {description}\")\n",
        "print(lis)"
      ],
      "metadata": {
        "colab": {
          "base_uri": "https://localhost:8080/"
        },
        "id": "syi2v4l-WQYC",
        "outputId": "9b188b01-37da-4616-b86c-8f0a70c4a9ab"
      },
      "execution_count": 17,
      "outputs": [
        {
          "output_type": "stream",
          "name": "stdout",
          "text": [
            "[]\n"
          ]
        }
      ]
    },
    {
      "cell_type": "code",
      "source": [
        "import requests\n",
        "\n",
        "# URL to scrape\n",
        "url = \"https://telegramchannels.me/search?type=all&search=indian+cyber+incidents+news\"\n",
        "\n",
        "# Make a request to the search page\n",
        "response = requests.get(url)\n",
        "print(response.text)\n",
        "# Check if the request was successful\n",
        "'''\n",
        "if response.status_code == 200:\n",
        "    # Print the content of the page\n",
        "\n",
        "else:\n",
        "    print(f\"Failed to retrieve content. Status code: {response.status_code}\")\n",
        "'''"
      ],
      "metadata": {
        "colab": {
          "base_uri": "https://localhost:8080/",
          "height": 1000
        },
        "id": "_kUTQg4haz2K",
        "outputId": "cbb80b13-af02-42c3-ef4a-3249000b0553"
      },
      "execution_count": 28,
      "outputs": [
        {
          "output_type": "stream",
          "name": "stdout",
          "text": [
            "<!DOCTYPE html>\n",
            "<!--[if lt IE 7]> <html class=\"no-js ie6 oldie\" lang=\"en-US\"> <![endif]-->\n",
            "<!--[if IE 7]>    <html class=\"no-js ie7 oldie\" lang=\"en-US\"> <![endif]-->\n",
            "<!--[if IE 8]>    <html class=\"no-js ie8 oldie\" lang=\"en-US\"> <![endif]-->\n",
            "<!--[if gt IE 8]><!--> <html class=\"no-js\" lang=\"en-US\"> <!--<![endif]-->\n",
            "<head>\n",
            "<title>Attention Required! | Cloudflare</title>\n",
            "<meta charset=\"UTF-8\" />\n",
            "<meta http-equiv=\"Content-Type\" content=\"text/html; charset=UTF-8\" />\n",
            "<meta http-equiv=\"X-UA-Compatible\" content=\"IE=Edge\" />\n",
            "<meta name=\"robots\" content=\"noindex, nofollow\" />\n",
            "<meta name=\"viewport\" content=\"width=device-width,initial-scale=1\" />\n",
            "<link rel=\"stylesheet\" id=\"cf_styles-css\" href=\"/cdn-cgi/styles/cf.errors.css\" />\n",
            "<!--[if lt IE 9]><link rel=\"stylesheet\" id='cf_styles-ie-css' href=\"/cdn-cgi/styles/cf.errors.ie.css\" /><![endif]-->\n",
            "<style>body{margin:0;padding:0}</style>\n",
            "\n",
            "\n",
            "<!--[if gte IE 10]><!-->\n",
            "<script>\n",
            "  if (!navigator.cookieEnabled) {\n",
            "    window.addEventListener('DOMContentLoaded', function () {\n",
            "      var cookieEl = document.getElementById('cookie-alert');\n",
            "      cookieEl.style.display = 'block';\n",
            "    })\n",
            "  }\n",
            "</script>\n",
            "<!--<![endif]-->\n",
            "\n",
            "\n",
            "</head>\n",
            "<body>\n",
            "  <div id=\"cf-wrapper\">\n",
            "    <div class=\"cf-alert cf-alert-error cf-cookie-error\" id=\"cookie-alert\" data-translate=\"enable_cookies\">Please enable cookies.</div>\n",
            "    <div id=\"cf-error-details\" class=\"cf-error-details-wrapper\">\n",
            "      <div class=\"cf-wrapper cf-header cf-error-overview\">\n",
            "        <h1 data-translate=\"block_headline\">Sorry, you have been blocked</h1>\n",
            "        <h2 class=\"cf-subheadline\"><span data-translate=\"unable_to_access\">You are unable to access</span> telegramchannels.me</h2>\n",
            "      </div><!-- /.header -->\n",
            "\n",
            "      <div class=\"cf-section cf-highlight\">\n",
            "        <div class=\"cf-wrapper\">\n",
            "          <div class=\"cf-screenshot-container cf-screenshot-full\">\n",
            "            \n",
            "              <span class=\"cf-no-screenshot error\"></span>\n",
            "            \n",
            "          </div>\n",
            "        </div>\n",
            "      </div><!-- /.captcha-container -->\n",
            "\n",
            "      <div class=\"cf-section cf-wrapper\">\n",
            "        <div class=\"cf-columns two\">\n",
            "          <div class=\"cf-column\">\n",
            "            <h2 data-translate=\"blocked_why_headline\">Why have I been blocked?</h2>\n",
            "\n",
            "            <p data-translate=\"blocked_why_detail\">This website is using a security service to protect itself from online attacks. The action you just performed triggered the security solution. There are several actions that could trigger this block including submitting a certain word or phrase, a SQL command or malformed data.</p>\n",
            "          </div>\n",
            "\n",
            "          <div class=\"cf-column\">\n",
            "            <h2 data-translate=\"blocked_resolve_headline\">What can I do to resolve this?</h2>\n",
            "\n",
            "            <p data-translate=\"blocked_resolve_detail\">You can email the site owner to let them know you were blocked. Please include what you were doing when this page came up and the Cloudflare Ray ID found at the bottom of this page.</p>\n",
            "          </div>\n",
            "        </div>\n",
            "      </div><!-- /.section -->\n",
            "\n",
            "      <div class=\"cf-error-footer cf-wrapper w-240 lg:w-full py-10 sm:py-4 sm:px-8 mx-auto text-center sm:text-left border-solid border-0 border-t border-gray-300\">\n",
            "  <p class=\"text-13\">\n",
            "    <span class=\"cf-footer-item sm:block sm:mb-1\">Cloudflare Ray ID: <strong class=\"font-semibold\">8c72387e2d7edd1d</strong></span>\n",
            "    <span class=\"cf-footer-separator sm:hidden\">&bull;</span>\n",
            "    <span id=\"cf-footer-item-ip\" class=\"cf-footer-item hidden sm:block sm:mb-1\">\n",
            "      Your IP:\n",
            "      <button type=\"button\" id=\"cf-footer-ip-reveal\" class=\"cf-footer-ip-reveal-btn\">Click to reveal</button>\n",
            "      <span class=\"hidden\" id=\"cf-footer-ip\">35.231.201.50</span>\n",
            "      <span class=\"cf-footer-separator sm:hidden\">&bull;</span>\n",
            "    </span>\n",
            "    <span class=\"cf-footer-item sm:block sm:mb-1\"><span>Performance &amp; security by</span> <a rel=\"noopener noreferrer\" href=\"https://www.cloudflare.com/5xx-error-landing\" id=\"brand_link\" target=\"_blank\">Cloudflare</a></span>\n",
            "    \n",
            "  </p>\n",
            "  <script>(function(){function d(){var b=a.getElementById(\"cf-footer-item-ip\"),c=a.getElementById(\"cf-footer-ip-reveal\");b&&\"classList\"in b&&(b.classList.remove(\"hidden\"),c.addEventListener(\"click\",function(){c.classList.add(\"hidden\");a.getElementById(\"cf-footer-ip\").classList.remove(\"hidden\")}))}var a=document;document.addEventListener&&a.addEventListener(\"DOMContentLoaded\",d)})();</script>\n",
            "</div><!-- /.error-footer -->\n",
            "\n",
            "\n",
            "    </div><!-- /#cf-error-details -->\n",
            "  </div><!-- /#cf-wrapper -->\n",
            "\n",
            "  <script>\n",
            "  window._cf_translation = {};\n",
            "  \n",
            "  \n",
            "</script>\n",
            "\n",
            "<script>(function(){function c(){var b=a.contentDocument||a.contentWindow.document;if(b){var d=b.createElement('script');d.innerHTML=\"window.__CF$cv$params={r:'8c72387e2d7edd1d',t:'MTcyNzAwNzMyOC4wMDAwMDA='};var a=document.createElement('script');a.nonce='';a.src='/cdn-cgi/challenge-platform/scripts/jsd/main.js';document.getElementsByTagName('head')[0].appendChild(a);\";b.getElementsByTagName('head')[0].appendChild(d)}}if(document.body){var a=document.createElement('iframe');a.height=1;a.width=1;a.style.position='absolute';a.style.top=0;a.style.left=0;a.style.border='none';a.style.visibility='hidden';document.body.appendChild(a);if('loading'!==document.readyState)c();else if(window.addEventListener)document.addEventListener('DOMContentLoaded',c);else{var e=document.onreadystatechange||function(){};document.onreadystatechange=function(b){e(b);'loading'!==document.readyState&&(document.onreadystatechange=e,c())}}}})();</script></body>\n",
            "</html>\n",
            "\n"
          ]
        },
        {
          "output_type": "execute_result",
          "data": {
            "text/plain": [
              "'\\nif response.status_code == 200:\\n    # Print the content of the page\\n    \\nelse:\\n    print(f\"Failed to retrieve content. Status code: {response.status_code}\")\\n'"
            ],
            "application/vnd.google.colaboratory.intrinsic+json": {
              "type": "string"
            }
          },
          "metadata": {},
          "execution_count": 28
        }
      ]
    },
    {
      "cell_type": "code",
      "source": [
        "import requests\n",
        "\n",
        "# URL to scrape\n",
        "url = \"https://telegramchannels.me/search?type=all&search=indian+cyber+incidents+news\"\n",
        "\n",
        "# Create a session\n",
        "session = requests.Session()\n",
        "\n",
        "# Set headers to mimic a browser\n",
        "session.headers.update({\n",
        "    'User-Agent': 'Mozilla/5.0 (Macintosh; Intel Mac OS X 10_15_7) AppleWebKit/605.1.15 (KHTML, like Gecko) Version/15.0 Safari/605.1.15'\n",
        "})\n",
        "\n",
        "# Make a request to the search page\n",
        "response = session.get(url)\n",
        "\n",
        "# Check if the request was successful\n",
        "if response.status_code == 200:\n",
        "    # Print the content of the page\n",
        "    print(response.text)\n",
        "else:\n",
        "    print(f\"Failed to retrieve content. Status code: {response.status_code}\")\n",
        "\n"
      ],
      "metadata": {
        "colab": {
          "base_uri": "https://localhost:8080/"
        },
        "id": "xHPFUz9nbB37",
        "outputId": "c238b31d-fed7-4ad5-b999-52cba48950e4"
      },
      "execution_count": 20,
      "outputs": [
        {
          "output_type": "stream",
          "name": "stdout",
          "text": [
            "Failed to retrieve content. Status code: 403\n"
          ]
        }
      ]
    },
    {
      "cell_type": "code",
      "source": [
        "!apt install -y chromium-chromedriver"
      ],
      "metadata": {
        "colab": {
          "base_uri": "https://localhost:8080/"
        },
        "id": "LCYXfN21bvI-",
        "outputId": "a6ba4464-20f0-4cac-ca5e-d3753107fa8a"
      },
      "execution_count": 21,
      "outputs": [
        {
          "output_type": "stream",
          "name": "stdout",
          "text": [
            "Reading package lists... Done\n",
            "Building dependency tree... Done\n",
            "Reading state information... Done\n",
            "The following additional packages will be installed:\n",
            "  apparmor chromium-browser libfuse3-3 liblzo2-2 libudev1 snapd squashfs-tools systemd-hwe-hwdb\n",
            "  udev\n",
            "Suggested packages:\n",
            "  apparmor-profiles-extra apparmor-utils fuse3 zenity | kdialog\n",
            "The following NEW packages will be installed:\n",
            "  apparmor chromium-browser chromium-chromedriver libfuse3-3 liblzo2-2 snapd squashfs-tools\n",
            "  systemd-hwe-hwdb udev\n",
            "The following packages will be upgraded:\n",
            "  libudev1\n",
            "1 upgraded, 9 newly installed, 0 to remove and 48 not upgraded.\n",
            "Need to get 28.5 MB of archives.\n",
            "After this operation, 118 MB of additional disk space will be used.\n",
            "Get:1 http://archive.ubuntu.com/ubuntu jammy-updates/main amd64 apparmor amd64 3.0.4-2ubuntu2.4 [598 kB]\n",
            "Get:2 http://archive.ubuntu.com/ubuntu jammy/main amd64 liblzo2-2 amd64 2.10-2build3 [53.7 kB]\n",
            "Get:3 http://archive.ubuntu.com/ubuntu jammy/main amd64 squashfs-tools amd64 1:4.5-3build1 [159 kB]\n",
            "Get:4 http://archive.ubuntu.com/ubuntu jammy-updates/main amd64 libudev1 amd64 249.11-0ubuntu3.12 [78.2 kB]\n",
            "Get:5 http://archive.ubuntu.com/ubuntu jammy-updates/main amd64 udev amd64 249.11-0ubuntu3.12 [1,557 kB]\n",
            "Get:6 http://archive.ubuntu.com/ubuntu jammy/main amd64 libfuse3-3 amd64 3.10.5-1build1 [81.2 kB]\n",
            "Get:7 http://archive.ubuntu.com/ubuntu jammy-updates/main amd64 snapd amd64 2.63+22.04ubuntu0.1 [25.9 MB]\n",
            "Get:8 http://archive.ubuntu.com/ubuntu jammy-updates/universe amd64 chromium-browser amd64 1:85.0.4183.83-0ubuntu2.22.04.1 [49.2 kB]\n",
            "Get:9 http://archive.ubuntu.com/ubuntu jammy-updates/universe amd64 chromium-chromedriver amd64 1:85.0.4183.83-0ubuntu2.22.04.1 [2,308 B]\n",
            "Get:10 http://archive.ubuntu.com/ubuntu jammy-updates/main amd64 systemd-hwe-hwdb all 249.11.5 [3,228 B]\n",
            "Fetched 28.5 MB in 2s (14.3 MB/s)\n",
            "Preconfiguring packages ...\n",
            "Selecting previously unselected package apparmor.\n",
            "(Reading database ... 123599 files and directories currently installed.)\n",
            "Preparing to unpack .../apparmor_3.0.4-2ubuntu2.4_amd64.deb ...\n",
            "Unpacking apparmor (3.0.4-2ubuntu2.4) ...\n",
            "Selecting previously unselected package liblzo2-2:amd64.\n",
            "Preparing to unpack .../liblzo2-2_2.10-2build3_amd64.deb ...\n",
            "Unpacking liblzo2-2:amd64 (2.10-2build3) ...\n",
            "Selecting previously unselected package squashfs-tools.\n",
            "Preparing to unpack .../squashfs-tools_1%3a4.5-3build1_amd64.deb ...\n",
            "Unpacking squashfs-tools (1:4.5-3build1) ...\n",
            "Preparing to unpack .../libudev1_249.11-0ubuntu3.12_amd64.deb ...\n",
            "Unpacking libudev1:amd64 (249.11-0ubuntu3.12) over (249.11-0ubuntu3.10) ...\n",
            "Setting up libudev1:amd64 (249.11-0ubuntu3.12) ...\n",
            "Selecting previously unselected package udev.\n",
            "(Reading database ... 123807 files and directories currently installed.)\n",
            "Preparing to unpack .../udev_249.11-0ubuntu3.12_amd64.deb ...\n",
            "Unpacking udev (249.11-0ubuntu3.12) ...\n",
            "Selecting previously unselected package libfuse3-3:amd64.\n",
            "Preparing to unpack .../libfuse3-3_3.10.5-1build1_amd64.deb ...\n",
            "Unpacking libfuse3-3:amd64 (3.10.5-1build1) ...\n",
            "Selecting previously unselected package snapd.\n",
            "Preparing to unpack .../snapd_2.63+22.04ubuntu0.1_amd64.deb ...\n",
            "Unpacking snapd (2.63+22.04ubuntu0.1) ...\n",
            "Setting up apparmor (3.0.4-2ubuntu2.4) ...\n",
            "Created symlink /etc/systemd/system/sysinit.target.wants/apparmor.service → /lib/systemd/system/apparmor.service.\n",
            "Setting up liblzo2-2:amd64 (2.10-2build3) ...\n",
            "Setting up squashfs-tools (1:4.5-3build1) ...\n",
            "Setting up udev (249.11-0ubuntu3.12) ...\n",
            "invoke-rc.d: could not determine current runlevel\n",
            "invoke-rc.d: policy-rc.d denied execution of start.\n",
            "Setting up libfuse3-3:amd64 (3.10.5-1build1) ...\n",
            "Setting up snapd (2.63+22.04ubuntu0.1) ...\n",
            "Created symlink /etc/systemd/system/multi-user.target.wants/snapd.apparmor.service → /lib/systemd/system/snapd.apparmor.service.\n",
            "Created symlink /etc/systemd/system/multi-user.target.wants/snapd.autoimport.service → /lib/systemd/system/snapd.autoimport.service.\n",
            "Created symlink /etc/systemd/system/multi-user.target.wants/snapd.core-fixup.service → /lib/systemd/system/snapd.core-fixup.service.\n",
            "Created symlink /etc/systemd/system/multi-user.target.wants/snapd.recovery-chooser-trigger.service → /lib/systemd/system/snapd.recovery-chooser-trigger.service.\n",
            "Created symlink /etc/systemd/system/multi-user.target.wants/snapd.seeded.service → /lib/systemd/system/snapd.seeded.service.\n",
            "Created symlink /etc/systemd/system/cloud-final.service.wants/snapd.seeded.service → /lib/systemd/system/snapd.seeded.service.\n",
            "Unit /lib/systemd/system/snapd.seeded.service is added as a dependency to a non-existent unit cloud-final.service.\n",
            "Created symlink /etc/systemd/system/multi-user.target.wants/snapd.service → /lib/systemd/system/snapd.service.\n",
            "Created symlink /etc/systemd/system/timers.target.wants/snapd.snap-repair.timer → /lib/systemd/system/snapd.snap-repair.timer.\n",
            "Created symlink /etc/systemd/system/sockets.target.wants/snapd.socket → /lib/systemd/system/snapd.socket.\n",
            "Created symlink /etc/systemd/system/final.target.wants/snapd.system-shutdown.service → /lib/systemd/system/snapd.system-shutdown.service.\n",
            "Selecting previously unselected package chromium-browser.\n",
            "(Reading database ... 124037 files and directories currently installed.)\n",
            "Preparing to unpack .../chromium-browser_1%3a85.0.4183.83-0ubuntu2.22.04.1_amd64.deb ...\n",
            "=> Installing the chromium snap\n",
            "==> Checking connectivity with the snap store\n",
            "===> System doesn't have a working snapd, skipping\n",
            "Unpacking chromium-browser (1:85.0.4183.83-0ubuntu2.22.04.1) ...\n",
            "Selecting previously unselected package chromium-chromedriver.\n",
            "Preparing to unpack .../chromium-chromedriver_1%3a85.0.4183.83-0ubuntu2.22.04.1_amd64.deb ...\n",
            "Unpacking chromium-chromedriver (1:85.0.4183.83-0ubuntu2.22.04.1) ...\n",
            "Selecting previously unselected package systemd-hwe-hwdb.\n",
            "Preparing to unpack .../systemd-hwe-hwdb_249.11.5_all.deb ...\n",
            "Unpacking systemd-hwe-hwdb (249.11.5) ...\n",
            "Setting up systemd-hwe-hwdb (249.11.5) ...\n",
            "Setting up chromium-browser (1:85.0.4183.83-0ubuntu2.22.04.1) ...\n",
            "update-alternatives: using /usr/bin/chromium-browser to provide /usr/bin/x-www-browser (x-www-browser) in auto mode\n",
            "update-alternatives: using /usr/bin/chromium-browser to provide /usr/bin/gnome-www-browser (gnome-www-browser) in auto mode\n",
            "Setting up chromium-chromedriver (1:85.0.4183.83-0ubuntu2.22.04.1) ...\n",
            "Processing triggers for udev (249.11-0ubuntu3.12) ...\n",
            "Processing triggers for hicolor-icon-theme (0.17-2) ...\n",
            "Processing triggers for libc-bin (2.35-0ubuntu3.4) ...\n",
            "/sbin/ldconfig.real: /usr/local/lib/libur_loader.so.0 is not a symbolic link\n",
            "\n",
            "/sbin/ldconfig.real: /usr/local/lib/libtbbbind_2_0.so.3 is not a symbolic link\n",
            "\n",
            "/sbin/ldconfig.real: /usr/local/lib/libtbbbind.so.3 is not a symbolic link\n",
            "\n",
            "/sbin/ldconfig.real: /usr/local/lib/libtbbbind_2_5.so.3 is not a symbolic link\n",
            "\n",
            "/sbin/ldconfig.real: /usr/local/lib/libtbbmalloc_proxy.so.2 is not a symbolic link\n",
            "\n",
            "/sbin/ldconfig.real: /usr/local/lib/libtbbmalloc.so.2 is not a symbolic link\n",
            "\n",
            "/sbin/ldconfig.real: /usr/local/lib/libur_adapter_opencl.so.0 is not a symbolic link\n",
            "\n",
            "/sbin/ldconfig.real: /usr/local/lib/libtbb.so.12 is not a symbolic link\n",
            "\n",
            "/sbin/ldconfig.real: /usr/local/lib/libur_adapter_level_zero.so.0 is not a symbolic link\n",
            "\n",
            "Processing triggers for man-db (2.10.2-1) ...\n",
            "Processing triggers for dbus (1.12.20-2ubuntu4.1) ...\n"
          ]
        }
      ]
    },
    {
      "cell_type": "code",
      "source": [
        "from selenium import webdriver\n",
        "from selenium.webdriver.chrome.service import Service\n",
        "from selenium.webdriver.common.by import By\n",
        "from selenium.webdriver.chrome.options import Options\n",
        "import time\n",
        "\n",
        "# Set up Chrome options\n",
        "chrome_options = Options()\n",
        "chrome_options.add_argument(\"--headless\")  # Run in headless mode (no GUI)\n",
        "chrome_options.add_argument(\"--no-sandbox\")\n",
        "chrome_options.add_argument(\"--disable-dev-shm-usage\")\n",
        "chrome_options.add_argument(\"--disable-gpu\")  # Disable GPU acceleration\n",
        "\n",
        "# Specify the path to Chrome binary and ChromeDriver\n",
        "chrome_options.binary_location = '/usr/bin/chromium-browser'\n",
        "service = Service('/usr/bin/chromedriver')  # This should still be correct\n",
        "\n",
        "# Initialize the Chrome driver\n",
        "driver = webdriver.Chrome(service=service, options=chrome_options)\n",
        "\n",
        "# URL to scrape\n",
        "url = \"https://telegramchannels.me/search?type=all&search=indian+cyber+incidents+news\"\n",
        "\n",
        "# Open the webpage\n",
        "driver.get(url)\n",
        "\n",
        "# Wait for the page to load\n",
        "time.sleep(5)  # Adjust sleep time as needed\n",
        "\n",
        "# Extract channel information\n",
        "channels = driver.find_elements(By.CLASS_NAME, 'card-content.pt-2')\n",
        "\n",
        "for channel in channels:\n",
        "    title_tag = channel.find_element(By.CSS_SELECTOR, 'a.has-text-grey')\n",
        "    title = title_tag.get_attribute('title')\n",
        "    link = title_tag.get_attribute('href').replace('tg://resolve?domain=', 'https://t.me/')\n",
        "\n",
        "    description = channel.find_element(By.CSS_SELECTOR, 'div.content.has-text-grey.two-line-text.card-description p').text\n",
        "\n",
        "    print(f\"Title: {title}, Link: {link}, Description: {description}\")\n",
        "\n",
        "# Close the driver\n",
        "driver.quit()\n",
        "\n"
      ],
      "metadata": {
        "colab": {
          "base_uri": "https://localhost:8080/",
          "height": 370
        },
        "id": "J8Vz0eg8cs_c",
        "outputId": "0cfe2645-7899-47a7-be07-0764a42926c8"
      },
      "execution_count": 25,
      "outputs": [
        {
          "output_type": "error",
          "ename": "WebDriverException",
          "evalue": "Message: Service /usr/bin/chromedriver unexpectedly exited. Status code was: 1\n",
          "traceback": [
            "\u001b[0;31m---------------------------------------------------------------------------\u001b[0m",
            "\u001b[0;31mWebDriverException\u001b[0m                        Traceback (most recent call last)",
            "\u001b[0;32m<ipython-input-25-234d37fe8dbd>\u001b[0m in \u001b[0;36m<cell line: 19>\u001b[0;34m()\u001b[0m\n\u001b[1;32m     17\u001b[0m \u001b[0;34m\u001b[0m\u001b[0m\n\u001b[1;32m     18\u001b[0m \u001b[0;31m# Initialize the Chrome driver\u001b[0m\u001b[0;34m\u001b[0m\u001b[0;34m\u001b[0m\u001b[0m\n\u001b[0;32m---> 19\u001b[0;31m \u001b[0mdriver\u001b[0m \u001b[0;34m=\u001b[0m \u001b[0mwebdriver\u001b[0m\u001b[0;34m.\u001b[0m\u001b[0mChrome\u001b[0m\u001b[0;34m(\u001b[0m\u001b[0mservice\u001b[0m\u001b[0;34m=\u001b[0m\u001b[0mservice\u001b[0m\u001b[0;34m,\u001b[0m \u001b[0moptions\u001b[0m\u001b[0;34m=\u001b[0m\u001b[0mchrome_options\u001b[0m\u001b[0;34m)\u001b[0m\u001b[0;34m\u001b[0m\u001b[0;34m\u001b[0m\u001b[0m\n\u001b[0m\u001b[1;32m     20\u001b[0m \u001b[0;34m\u001b[0m\u001b[0m\n\u001b[1;32m     21\u001b[0m \u001b[0;31m# URL to scrape\u001b[0m\u001b[0;34m\u001b[0m\u001b[0;34m\u001b[0m\u001b[0m\n",
            "\u001b[0;32m/usr/local/lib/python3.10/dist-packages/selenium/webdriver/chrome/webdriver.py\u001b[0m in \u001b[0;36m__init__\u001b[0;34m(self, options, service, keep_alive)\u001b[0m\n\u001b[1;32m     43\u001b[0m         \u001b[0moptions\u001b[0m \u001b[0;34m=\u001b[0m \u001b[0moptions\u001b[0m \u001b[0;32mif\u001b[0m \u001b[0moptions\u001b[0m \u001b[0;32melse\u001b[0m \u001b[0mOptions\u001b[0m\u001b[0;34m(\u001b[0m\u001b[0;34m)\u001b[0m\u001b[0;34m\u001b[0m\u001b[0;34m\u001b[0m\u001b[0m\n\u001b[1;32m     44\u001b[0m \u001b[0;34m\u001b[0m\u001b[0m\n\u001b[0;32m---> 45\u001b[0;31m         super().__init__(\n\u001b[0m\u001b[1;32m     46\u001b[0m             \u001b[0mbrowser_name\u001b[0m\u001b[0;34m=\u001b[0m\u001b[0mDesiredCapabilities\u001b[0m\u001b[0;34m.\u001b[0m\u001b[0mCHROME\u001b[0m\u001b[0;34m[\u001b[0m\u001b[0;34m\"browserName\"\u001b[0m\u001b[0;34m]\u001b[0m\u001b[0;34m,\u001b[0m\u001b[0;34m\u001b[0m\u001b[0;34m\u001b[0m\u001b[0m\n\u001b[1;32m     47\u001b[0m             \u001b[0mvendor_prefix\u001b[0m\u001b[0;34m=\u001b[0m\u001b[0;34m\"goog\"\u001b[0m\u001b[0;34m,\u001b[0m\u001b[0;34m\u001b[0m\u001b[0;34m\u001b[0m\u001b[0m\n",
            "\u001b[0;32m/usr/local/lib/python3.10/dist-packages/selenium/webdriver/chromium/webdriver.py\u001b[0m in \u001b[0;36m__init__\u001b[0;34m(self, browser_name, vendor_prefix, options, service, keep_alive)\u001b[0m\n\u001b[1;32m     53\u001b[0m \u001b[0;34m\u001b[0m\u001b[0m\n\u001b[1;32m     54\u001b[0m         \u001b[0mself\u001b[0m\u001b[0;34m.\u001b[0m\u001b[0mservice\u001b[0m\u001b[0;34m.\u001b[0m\u001b[0mpath\u001b[0m \u001b[0;34m=\u001b[0m \u001b[0mfinder\u001b[0m\u001b[0;34m.\u001b[0m\u001b[0mget_driver_path\u001b[0m\u001b[0;34m(\u001b[0m\u001b[0;34m)\u001b[0m\u001b[0;34m\u001b[0m\u001b[0;34m\u001b[0m\u001b[0m\n\u001b[0;32m---> 55\u001b[0;31m         \u001b[0mself\u001b[0m\u001b[0;34m.\u001b[0m\u001b[0mservice\u001b[0m\u001b[0;34m.\u001b[0m\u001b[0mstart\u001b[0m\u001b[0;34m(\u001b[0m\u001b[0;34m)\u001b[0m\u001b[0;34m\u001b[0m\u001b[0;34m\u001b[0m\u001b[0m\n\u001b[0m\u001b[1;32m     56\u001b[0m \u001b[0;34m\u001b[0m\u001b[0m\n\u001b[1;32m     57\u001b[0m         executor = ChromiumRemoteConnection(\n",
            "\u001b[0;32m/usr/local/lib/python3.10/dist-packages/selenium/webdriver/common/service.py\u001b[0m in \u001b[0;36mstart\u001b[0;34m(self)\u001b[0m\n\u001b[1;32m    103\u001b[0m         \u001b[0mcount\u001b[0m \u001b[0;34m=\u001b[0m \u001b[0;36m0\u001b[0m\u001b[0;34m\u001b[0m\u001b[0;34m\u001b[0m\u001b[0m\n\u001b[1;32m    104\u001b[0m         \u001b[0;32mwhile\u001b[0m \u001b[0;32mTrue\u001b[0m\u001b[0;34m:\u001b[0m\u001b[0;34m\u001b[0m\u001b[0;34m\u001b[0m\u001b[0m\n\u001b[0;32m--> 105\u001b[0;31m             \u001b[0mself\u001b[0m\u001b[0;34m.\u001b[0m\u001b[0massert_process_still_running\u001b[0m\u001b[0;34m(\u001b[0m\u001b[0;34m)\u001b[0m\u001b[0;34m\u001b[0m\u001b[0;34m\u001b[0m\u001b[0m\n\u001b[0m\u001b[1;32m    106\u001b[0m             \u001b[0;32mif\u001b[0m \u001b[0mself\u001b[0m\u001b[0;34m.\u001b[0m\u001b[0mis_connectable\u001b[0m\u001b[0;34m(\u001b[0m\u001b[0;34m)\u001b[0m\u001b[0;34m:\u001b[0m\u001b[0;34m\u001b[0m\u001b[0;34m\u001b[0m\u001b[0m\n\u001b[1;32m    107\u001b[0m                 \u001b[0;32mbreak\u001b[0m\u001b[0;34m\u001b[0m\u001b[0;34m\u001b[0m\u001b[0m\n",
            "\u001b[0;32m/usr/local/lib/python3.10/dist-packages/selenium/webdriver/common/service.py\u001b[0m in \u001b[0;36massert_process_still_running\u001b[0;34m(self)\u001b[0m\n\u001b[1;32m    116\u001b[0m         \u001b[0mreturn_code\u001b[0m \u001b[0;34m=\u001b[0m \u001b[0mself\u001b[0m\u001b[0;34m.\u001b[0m\u001b[0mprocess\u001b[0m\u001b[0;34m.\u001b[0m\u001b[0mpoll\u001b[0m\u001b[0;34m(\u001b[0m\u001b[0;34m)\u001b[0m\u001b[0;34m\u001b[0m\u001b[0;34m\u001b[0m\u001b[0m\n\u001b[1;32m    117\u001b[0m         \u001b[0;32mif\u001b[0m \u001b[0mreturn_code\u001b[0m\u001b[0;34m:\u001b[0m\u001b[0;34m\u001b[0m\u001b[0;34m\u001b[0m\u001b[0m\n\u001b[0;32m--> 118\u001b[0;31m             \u001b[0;32mraise\u001b[0m \u001b[0mWebDriverException\u001b[0m\u001b[0;34m(\u001b[0m\u001b[0;34mf\"Service {self._path} unexpectedly exited. Status code was: {return_code}\"\u001b[0m\u001b[0;34m)\u001b[0m\u001b[0;34m\u001b[0m\u001b[0;34m\u001b[0m\u001b[0m\n\u001b[0m\u001b[1;32m    119\u001b[0m \u001b[0;34m\u001b[0m\u001b[0m\n\u001b[1;32m    120\u001b[0m     \u001b[0;32mdef\u001b[0m \u001b[0mis_connectable\u001b[0m\u001b[0;34m(\u001b[0m\u001b[0mself\u001b[0m\u001b[0;34m)\u001b[0m \u001b[0;34m->\u001b[0m \u001b[0mbool\u001b[0m\u001b[0;34m:\u001b[0m\u001b[0;34m\u001b[0m\u001b[0;34m\u001b[0m\u001b[0m\n",
            "\u001b[0;31mWebDriverException\u001b[0m: Message: Service /usr/bin/chromedriver unexpectedly exited. Status code was: 1\n"
          ]
        }
      ]
    },
    {
      "cell_type": "code",
      "source": [
        "!snap install chromium"
      ],
      "metadata": {
        "colab": {
          "base_uri": "https://localhost:8080/"
        },
        "id": "mZAiyXeiczLs",
        "outputId": "8212196b-cc2f-497f-dc38-f9f48f38ae7a"
      },
      "execution_count": 24,
      "outputs": [
        {
          "output_type": "stream",
          "name": "stdout",
          "text": [
            "error: cannot communicate with server: Post \"http://localhost/v2/snaps/chromium\": dial unix /run/snapd.socket: connect: no such file or directory\n"
          ]
        }
      ]
    },
    {
      "cell_type": "code",
      "source": [
        "from selenium import webdriver\n",
        "from selenium.webdriver.chrome.service import Service\n",
        "from selenium.webdriver.common.by import By\n",
        "from selenium.webdriver.chrome.options import Options\n",
        "import time\n",
        "\n",
        "# Set up Chrome options\n",
        "chrome_options = Options()\n",
        "chrome_options.add_argument(\"--headless\")  # Run in headless mode (no GUI)\n",
        "chrome_options.add_argument(\"--no-sandbox\")\n",
        "chrome_options.add_argument(\"--disable-dev-shm-usage\")\n",
        "chrome_options.add_argument(\"--disable-gpu\")  # Disable GPU acceleration\n",
        "\n",
        "# Create a service object\n",
        "service = Service('/usr/bin/chromedriver')\n",
        "\n",
        "# Initialize the Chrome driver\n",
        "driver = webdriver.Chrome(service=service, options=chrome_options)\n",
        "\n",
        "# URL to scrape\n",
        "url = \"https://telegramchannels.me/search?type=all&search=indian+cyber+incidents+news\"\n",
        "\n",
        "# Open the webpage\n",
        "driver.get(url)\n",
        "\n",
        "# Wait for the page to load\n",
        "time.sleep(5)  # Adjust sleep time as needed\n",
        "\n",
        "# Extract channel information\n",
        "channels = driver.find_elements(By.CLASS_NAME, 'card-content.pt-2')\n",
        "\n",
        "for channel in channels:\n",
        "    title_tag = channel.find_element(By.CSS_SELECTOR, 'a.has-text-grey')\n",
        "    title = title_tag.get_attribute('title')\n",
        "    link = title_tag.get_attribute('href').replace('tg://resolve?domain=', 'https://t.me/')\n",
        "\n",
        "    description = channel.find_element(By.CSS_SELECTOR, 'div.content.has-text-grey.two-line-text.card-description p').text\n",
        "\n",
        "    print(f\"Title: {title}, Link: {link}, Description: {description}\")\n",
        "\n",
        "# Close the driver\n",
        "driver.quit()\n"
      ],
      "metadata": {
        "colab": {
          "base_uri": "https://localhost:8080/",
          "height": 370
        },
        "id": "HHfmMJVib8UP",
        "outputId": "ffcc1437-88b0-41ec-8dae-458c7889f72b"
      },
      "execution_count": 22,
      "outputs": [
        {
          "output_type": "error",
          "ename": "WebDriverException",
          "evalue": "Message: Service /usr/bin/chromedriver unexpectedly exited. Status code was: 1\n",
          "traceback": [
            "\u001b[0;31m---------------------------------------------------------------------------\u001b[0m",
            "\u001b[0;31mWebDriverException\u001b[0m                        Traceback (most recent call last)",
            "\u001b[0;32m<ipython-input-22-fe6aeb14ffcb>\u001b[0m in \u001b[0;36m<cell line: 18>\u001b[0;34m()\u001b[0m\n\u001b[1;32m     16\u001b[0m \u001b[0;34m\u001b[0m\u001b[0m\n\u001b[1;32m     17\u001b[0m \u001b[0;31m# Initialize the Chrome driver\u001b[0m\u001b[0;34m\u001b[0m\u001b[0;34m\u001b[0m\u001b[0m\n\u001b[0;32m---> 18\u001b[0;31m \u001b[0mdriver\u001b[0m \u001b[0;34m=\u001b[0m \u001b[0mwebdriver\u001b[0m\u001b[0;34m.\u001b[0m\u001b[0mChrome\u001b[0m\u001b[0;34m(\u001b[0m\u001b[0mservice\u001b[0m\u001b[0;34m=\u001b[0m\u001b[0mservice\u001b[0m\u001b[0;34m,\u001b[0m \u001b[0moptions\u001b[0m\u001b[0;34m=\u001b[0m\u001b[0mchrome_options\u001b[0m\u001b[0;34m)\u001b[0m\u001b[0;34m\u001b[0m\u001b[0;34m\u001b[0m\u001b[0m\n\u001b[0m\u001b[1;32m     19\u001b[0m \u001b[0;34m\u001b[0m\u001b[0m\n\u001b[1;32m     20\u001b[0m \u001b[0;31m# URL to scrape\u001b[0m\u001b[0;34m\u001b[0m\u001b[0;34m\u001b[0m\u001b[0m\n",
            "\u001b[0;32m/usr/local/lib/python3.10/dist-packages/selenium/webdriver/chrome/webdriver.py\u001b[0m in \u001b[0;36m__init__\u001b[0;34m(self, options, service, keep_alive)\u001b[0m\n\u001b[1;32m     43\u001b[0m         \u001b[0moptions\u001b[0m \u001b[0;34m=\u001b[0m \u001b[0moptions\u001b[0m \u001b[0;32mif\u001b[0m \u001b[0moptions\u001b[0m \u001b[0;32melse\u001b[0m \u001b[0mOptions\u001b[0m\u001b[0;34m(\u001b[0m\u001b[0;34m)\u001b[0m\u001b[0;34m\u001b[0m\u001b[0;34m\u001b[0m\u001b[0m\n\u001b[1;32m     44\u001b[0m \u001b[0;34m\u001b[0m\u001b[0m\n\u001b[0;32m---> 45\u001b[0;31m         super().__init__(\n\u001b[0m\u001b[1;32m     46\u001b[0m             \u001b[0mbrowser_name\u001b[0m\u001b[0;34m=\u001b[0m\u001b[0mDesiredCapabilities\u001b[0m\u001b[0;34m.\u001b[0m\u001b[0mCHROME\u001b[0m\u001b[0;34m[\u001b[0m\u001b[0;34m\"browserName\"\u001b[0m\u001b[0;34m]\u001b[0m\u001b[0;34m,\u001b[0m\u001b[0;34m\u001b[0m\u001b[0;34m\u001b[0m\u001b[0m\n\u001b[1;32m     47\u001b[0m             \u001b[0mvendor_prefix\u001b[0m\u001b[0;34m=\u001b[0m\u001b[0;34m\"goog\"\u001b[0m\u001b[0;34m,\u001b[0m\u001b[0;34m\u001b[0m\u001b[0;34m\u001b[0m\u001b[0m\n",
            "\u001b[0;32m/usr/local/lib/python3.10/dist-packages/selenium/webdriver/chromium/webdriver.py\u001b[0m in \u001b[0;36m__init__\u001b[0;34m(self, browser_name, vendor_prefix, options, service, keep_alive)\u001b[0m\n\u001b[1;32m     53\u001b[0m \u001b[0;34m\u001b[0m\u001b[0m\n\u001b[1;32m     54\u001b[0m         \u001b[0mself\u001b[0m\u001b[0;34m.\u001b[0m\u001b[0mservice\u001b[0m\u001b[0;34m.\u001b[0m\u001b[0mpath\u001b[0m \u001b[0;34m=\u001b[0m \u001b[0mfinder\u001b[0m\u001b[0;34m.\u001b[0m\u001b[0mget_driver_path\u001b[0m\u001b[0;34m(\u001b[0m\u001b[0;34m)\u001b[0m\u001b[0;34m\u001b[0m\u001b[0;34m\u001b[0m\u001b[0m\n\u001b[0;32m---> 55\u001b[0;31m         \u001b[0mself\u001b[0m\u001b[0;34m.\u001b[0m\u001b[0mservice\u001b[0m\u001b[0;34m.\u001b[0m\u001b[0mstart\u001b[0m\u001b[0;34m(\u001b[0m\u001b[0;34m)\u001b[0m\u001b[0;34m\u001b[0m\u001b[0;34m\u001b[0m\u001b[0m\n\u001b[0m\u001b[1;32m     56\u001b[0m \u001b[0;34m\u001b[0m\u001b[0m\n\u001b[1;32m     57\u001b[0m         executor = ChromiumRemoteConnection(\n",
            "\u001b[0;32m/usr/local/lib/python3.10/dist-packages/selenium/webdriver/common/service.py\u001b[0m in \u001b[0;36mstart\u001b[0;34m(self)\u001b[0m\n\u001b[1;32m    103\u001b[0m         \u001b[0mcount\u001b[0m \u001b[0;34m=\u001b[0m \u001b[0;36m0\u001b[0m\u001b[0;34m\u001b[0m\u001b[0;34m\u001b[0m\u001b[0m\n\u001b[1;32m    104\u001b[0m         \u001b[0;32mwhile\u001b[0m \u001b[0;32mTrue\u001b[0m\u001b[0;34m:\u001b[0m\u001b[0;34m\u001b[0m\u001b[0;34m\u001b[0m\u001b[0m\n\u001b[0;32m--> 105\u001b[0;31m             \u001b[0mself\u001b[0m\u001b[0;34m.\u001b[0m\u001b[0massert_process_still_running\u001b[0m\u001b[0;34m(\u001b[0m\u001b[0;34m)\u001b[0m\u001b[0;34m\u001b[0m\u001b[0;34m\u001b[0m\u001b[0m\n\u001b[0m\u001b[1;32m    106\u001b[0m             \u001b[0;32mif\u001b[0m \u001b[0mself\u001b[0m\u001b[0;34m.\u001b[0m\u001b[0mis_connectable\u001b[0m\u001b[0;34m(\u001b[0m\u001b[0;34m)\u001b[0m\u001b[0;34m:\u001b[0m\u001b[0;34m\u001b[0m\u001b[0;34m\u001b[0m\u001b[0m\n\u001b[1;32m    107\u001b[0m                 \u001b[0;32mbreak\u001b[0m\u001b[0;34m\u001b[0m\u001b[0;34m\u001b[0m\u001b[0m\n",
            "\u001b[0;32m/usr/local/lib/python3.10/dist-packages/selenium/webdriver/common/service.py\u001b[0m in \u001b[0;36massert_process_still_running\u001b[0;34m(self)\u001b[0m\n\u001b[1;32m    116\u001b[0m         \u001b[0mreturn_code\u001b[0m \u001b[0;34m=\u001b[0m \u001b[0mself\u001b[0m\u001b[0;34m.\u001b[0m\u001b[0mprocess\u001b[0m\u001b[0;34m.\u001b[0m\u001b[0mpoll\u001b[0m\u001b[0;34m(\u001b[0m\u001b[0;34m)\u001b[0m\u001b[0;34m\u001b[0m\u001b[0;34m\u001b[0m\u001b[0m\n\u001b[1;32m    117\u001b[0m         \u001b[0;32mif\u001b[0m \u001b[0mreturn_code\u001b[0m\u001b[0;34m:\u001b[0m\u001b[0;34m\u001b[0m\u001b[0;34m\u001b[0m\u001b[0m\n\u001b[0;32m--> 118\u001b[0;31m             \u001b[0;32mraise\u001b[0m \u001b[0mWebDriverException\u001b[0m\u001b[0;34m(\u001b[0m\u001b[0;34mf\"Service {self._path} unexpectedly exited. Status code was: {return_code}\"\u001b[0m\u001b[0;34m)\u001b[0m\u001b[0;34m\u001b[0m\u001b[0;34m\u001b[0m\u001b[0m\n\u001b[0m\u001b[1;32m    119\u001b[0m \u001b[0;34m\u001b[0m\u001b[0m\n\u001b[1;32m    120\u001b[0m     \u001b[0;32mdef\u001b[0m \u001b[0mis_connectable\u001b[0m\u001b[0;34m(\u001b[0m\u001b[0mself\u001b[0m\u001b[0;34m)\u001b[0m \u001b[0;34m->\u001b[0m \u001b[0mbool\u001b[0m\u001b[0;34m:\u001b[0m\u001b[0;34m\u001b[0m\u001b[0;34m\u001b[0m\u001b[0m\n",
            "\u001b[0;31mWebDriverException\u001b[0m: Message: Service /usr/bin/chromedriver unexpectedly exited. Status code was: 1\n"
          ]
        }
      ]
    }
  ]
}